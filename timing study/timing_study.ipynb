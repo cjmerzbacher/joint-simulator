{
 "cells": [
  {
   "cell_type": "markdown",
   "metadata": {},
   "source": [
    "# Timing Study"
   ]
  },
  {
   "cell_type": "code",
   "execution_count": 3,
   "metadata": {},
   "outputs": [
    {
     "data": {
      "text/plain": [
       "michaelismenten_substrateactivation (generic function with 1 method)"
      ]
     },
     "metadata": {},
     "output_type": "display_data"
    }
   ],
   "source": [
    "# Import required package\n",
    "using DifferentialEquations\n",
    "using COBREXA\n",
    "using DataFrames\n",
    "using Tulip\n",
    "using Plots\n",
    "using Colors\n",
    "using ModelingToolkit\n",
    "\n",
    "function glucaric_acid_f6p(du, u, p, t)\n",
    "    g6p, f6p, mi, ino1, miox = u\n",
    "\n",
    "    A, W, v_in, lam = p\n",
    "\n",
    "    n_ino1, theta_ino1, k_ino1 = W[1]\n",
    "    n_miox, theta_miox, k_miox = W[2]\n",
    "    k_ino1 = k_ino1 * 60 * 60\n",
    "    k_miox = k_miox * 60 * 60\n",
    "\n",
    "    v_pgi = reversible_michaelismenten(g6p, f6p, ga_params(\"vm_pgi\"), ga_params(\"keq_pgi\"), ga_params(\"km_pgi_g6p\"), ga_params(\"km_pgi_f6p\"))\n",
    "    v_zwf = michaelismenten(g6p, ga_params(\"vm_zwf\"), ga_params(\"km_zwf_g6p\"))\n",
    "    v_pfk = hillequation(f6p, ga_params(\"vm_pfk\"), ga_params(\"n_pfk\"), ga_params(\"km_pfk_f6p\"))\n",
    "    v_ino1 = ino1 * michaelismenten(g6p, ga_params(\"vm_ino1\"), ga_params(\"km_ino1_g6p\"))\n",
    "    v_tm = michaelismenten(mi, ga_params(\"vm_t_mi\"), ga_params(\"km_t_mi\"))\n",
    "    v_miox = miox * michaelismenten_substrateactivation(mi, ga_params(\"vm_miox\"), ga_params(\"km_miox_mi\"), ga_params(\"a_miox\"), ga_params(\"ka_miox_mi\"))\n",
    "\n",
    "    u_ino1_mi = sum(A[1] .* [activation(mi, k_ino1, theta_ino1, n_ino1), repression(mi, k_ino1, theta_ino1, n_ino1), k_ino1])\n",
    "    u_miox_mi = sum(A[2] .* [activation(mi, k_miox, theta_miox, n_miox), repression(mi, k_miox, theta_miox, n_miox), k_miox])\n",
    "\n",
    "    du[1] = v_in - v_zwf - v_pgi - v_ino1 - lam*g6p\n",
    "    du[2] = v_pgi + 0.5*v_zwf - v_pfk - lam*f6p\n",
    "    du[3] = v_ino1 - v_tm - v_miox - lam*mi\n",
    "    du[4] = u_ino1_mi  - lam*ino1\n",
    "    du[5] = u_miox_mi - lam*miox\n",
    "end\n",
    "\n",
    "function ga_params(param_name)\n",
    "    params = Dict(\"vm_ino1\" => 0.2616 * 60 * 60, #[mM/s],\n",
    "    \"km_ino1_g6p\" => 1.18, #[mM],\n",
    "    \"vm_t_mi\"=> 0.045  * 60 * 60, #[mM/s],\n",
    "    \"km_t_mi\"=> 15, #[mM],\n",
    "    \"vm_miox\" => 0.2201 * 60 * 60, #[mM/s],\n",
    "    \"km_miox_mi\" => 24.7, #[mM],\n",
    "    \"a_miox\" => 5.4222, #[no units],\n",
    "    \"ka_miox_mi\" => 20, #[mM],\n",
    "    \"vm_glc\" => 0.1 * 60 * 60,#EC 2.7.1.63 [mM/s],\n",
    "    \"km_glc\" => 0.082, #[mM]\n",
    "    \"vm_pgi\" => 1.1094 * 60 * 60,#[mM/s],\n",
    "    \"keq_pgi\" => 0.3, #[no units],\n",
    "    \"km_pgi_g6p\" => 0.28, #[mM],\n",
    "    \"km_pgi_f6p\" => 0.147, #[mM],\n",
    "    \"vm_pfk\" => 2.615 * 60 * 60,#[mM/s],\n",
    "    \"km_pfk_f6p\" => 0.16, #[mM],\n",
    "    \"n_pfk\" => 3, #[no units],\n",
    "    \"vm_zwf\" => 0.0853 * 60 * 60,\n",
    "    \"km_zwf_g6p\" => 0.1,\n",
    "    \"v_pts\" => 0.1656 * 60 * 60,\n",
    "    \"kcat_udh\" => 161 * 60 * 60, #[1/s], from Brenda\n",
    "    \"km_udh\" => 0.2 #[mM], from Brenda\n",
    "    )\n",
    "    return params[param_name]\n",
    "end\n",
    "\n",
    "repression(x, k, theta, n) = k/(1+(x/theta)^n)\n",
    "activation(x, k, theta, n) = (k*(x^n))/(theta^n + x^n)\n",
    "reversible_michaelismenten(x, y, vm, keq, kmx, kmy) = (vm*(x - (y/keq)))/(x + kmx*(1+(y/kmy)))\n",
    "hillequation(x, vm, n, km) = vm*x^n / (km^n + x^n)\n",
    "michaelismenten(x, vm, km) = (vm*x)/(km+x)\n",
    "michaelismenten_substrateactivation(x, vm, km, a, ka) = ((vm * (1+ (a*x)/(ka + x)))*x)/(km + x)\n"
   ]
  },
  {
   "cell_type": "code",
   "execution_count": 9,
   "metadata": {},
   "outputs": [
    {
     "data": {
      "text/plain": [
       "timing_study_ga (generic function with 1 method)"
      ]
     },
     "metadata": {},
     "output_type": "display_data"
    }
   ],
   "source": [
    "function timing_study_ga(N)\n",
    "    #Comparison to ML surrogate GA model\n",
    "    #Specify algorithm parameters\n",
    "    deltat = 1/(60*60) #genetic timescale, seconds\n",
    "    A = [[0, 1, 0], [1, 0, 0]]\n",
    "    W = [[2., 0.013319, 0.608497], [2., 8.013213, 0.001996]] #Optimal from MSc work\n",
    "    #W = [[2., 10., 0.608497], [2., 8.013213, 0.001996]]\n",
    "    #Run pre-simulation with initial FBA v_in, v_out lam\n",
    "    model = load_model(StandardModel, \"../models/iML1515.xml\") #load core E.coli model\n",
    "\n",
    "    #Modify model to add dynamic pathway influx \n",
    "    reaction = Reaction(\"DynPathway\", Dict(\"M_g6p_c\" => -1.0))\n",
    "    reaction.lb = 0.0 #Must include lower bound to avoid reaction running backwards with -1000 flux\n",
    "    add_reactions!(model, [reaction])\n",
    "\n",
    "    v_dp = 0.0\n",
    "    restricted_fluxes = flux_balance_analysis_dict(model, Tulip.Optimizer, modifications = [change_constraint(\"DynPathway\", lb = v_dp, ub = v_dp)])\n",
    "    lam = restricted_fluxes[\"R_BIOMASS_Ec_iML1515_core_75p37M\"]\n",
    "    v_in =  restricted_fluxes[\"R_TRE6PH\"] + restricted_fluxes[\"R_PGMT\"] + restricted_fluxes[\"R_HEX1\"] + restricted_fluxes[\"R_AB6PGH\"] + restricted_fluxes[\"R_AB6PGH\"] - restricted_fluxes[\"R_TRE6PS\"] + restricted_fluxes[\"R_FRULYSDG\"] + restricted_fluxes[\"R_GLCptspp\"] - restricted_fluxes[\"R_G6PP\"] + restricted_fluxes[\"R_G6Pt6_2pp\"] + restricted_fluxes[\"R_BGLA1\"] \n",
    "    #println(\"ODE initial parameters: \", [v_in, lam])\n",
    "\n",
    "    u0 = [0.281, 0.0605, 0., 0., 0.] #From Verma paper\n",
    "    #println(\"ODE initial conditions: \", u0)\n",
    "\n",
    "    #Redefine param vector to include decision variables\n",
    "    p = [A, W, v_in, lam]\n",
    "\n",
    "    #instantiate initial times\n",
    "    starttime = 0.\n",
    "    endtime = starttime + deltat\n",
    "    tspan = [starttime, endtime]\n",
    "    savetimes = [starttime, endtime] #saving start time and end times for alternate v_dp calculation\n",
    "    u0 = [0.281, 0.0605, 0., 0., 0.]\n",
    "\n",
    "    #FBA-ODE optimization loop\n",
    "    ode_data = DataFrame(\"time\" => [0], \"g6p\" => u0[1], \"f6p\" => u0[2], \"mi\" => u0[3], \"ino1\" => u0[4], \"miox\" => u0[5], \"v_dp\" => [0], \"v_out\" => restricted_fluxes[\"R_PFK\"], \"flag\" => [0])\n",
    "    #ode_data = DataFrame()\n",
    "    fba_data = DataFrame(\"time\" => [0], \"v_in\" => [v_in], \"lam\" => [lam]);\n",
    "\n",
    "    total_ode_time = 0.0\n",
    "    total_fba_time = 0.0\n",
    "    #println(\"Beginning loop...\")\n",
    "    for i in 1:N\n",
    "        # println(\"Iteration \", i)\n",
    "        prob = ODEProblem(glucaric_acid_f6p, u0, tspan, p)\n",
    "        #Solve ODE\n",
    "        total_ode_time += @elapsed begin\n",
    "            sol = solve(prob, Rosenbrock23(), reltol=1e-3, abstol=1e-6, saveat=savetimes)\n",
    "        end\n",
    "        #Solve for pathway fluxes from final concentrations\n",
    "        v_dp = sol.u[end][4] * michaelismenten(sol.u[end][1], ga_params(\"vm_ino1\"), ga_params(\"km_ino1_g6p\")) #same as v_ino1 = ino1*mm(g6p, vm, km)\n",
    "        #v_dp = (sol.u[end][3] - sol.u[1][3])/(sol.t[end] - sol.t[1]) #alternate tangent method of computing v_dp\n",
    "        #println(\"Dynamic pathway flux prediction from ODE: \", v_dp)\n",
    "        v_out = hillequation(sol.u[end][2], ga_params(\"vm_pfk\"), ga_params(\"n_pfk\"), ga_params(\"km_pfk_f6p\"))\n",
    "        #println(\"PFK flux prediction from ODE: \", v_out)\n",
    "\n",
    "        \n",
    "        #Backstop to loop\n",
    "        if v_dp >= v_in\n",
    "            ode_data = vcat(ode_data, DataFrame(\"time\" => sol.t[1], \"g6p\" => sol.u[1][1], \"f6p\" => sol.u[1][2], \"mi\" => sol.u[1][3], \"ino1\" => sol.u[1][4], \"miox\" => sol.u[1][5], \"v_dp\" => v_dp, \"v_out\" => v_out, \"flag\" => [1]))\n",
    "            v_dp = 8.5\n",
    "            v_out = 0.5\n",
    "        else    ode_data = vcat(ode_data, DataFrame(\"time\" => sol.t[1], \"g6p\" => sol.u[1][1], \"f6p\" => sol.u[1][2], \"mi\" => sol.u[1][3], \"ino1\" => sol.u[1][4], \"miox\" => sol.u[1][5], \"v_dp\" => v_dp, \"v_out\" => v_out, \"flag\" => [1]))\n",
    "        end\n",
    "\n",
    "        #Solve restricted FBA\n",
    "        #restricted_fluxes = flux_balance_analysis_dict(model, Tulip.Optimizer, modifications = [change_constraint(\"DynPathway\", lb = v_dp, ub = v_dp)]) #No Vout integration\n",
    "        total_fba_time += @elapsed begin\n",
    "            restricted_fluxes = flux_balance_analysis_dict(model, Tulip.Optimizer, modifications = [change_constraint(\"DynPathway\", lb = v_dp, ub = v_dp), change_constraint(\"R_PFK\", lb = v_out, ub = v_out)])\n",
    "        #println(\"Dynamic pathway flux prediction from FBA: \", restricted_fluxes[\"DynPathway\"])\n",
    "        end\n",
    "        #Update parameter and timing values\n",
    "        lam = restricted_fluxes[\"R_BIOMASS_Ec_iML1515_core_75p37M\"]\n",
    "        v_in =  restricted_fluxes[\"R_TRE6PH\"] + restricted_fluxes[\"R_PGMT\"] + restricted_fluxes[\"R_HEX1\"] + restricted_fluxes[\"R_AB6PGH\"] + restricted_fluxes[\"R_AB6PGH\"] - restricted_fluxes[\"R_TRE6PS\"] + restricted_fluxes[\"R_FRULYSDG\"] + restricted_fluxes[\"R_GLCptspp\"] - restricted_fluxes[\"R_G6PP\"] + restricted_fluxes[\"R_G6Pt6_2pp\"] + restricted_fluxes[\"R_BGLA1\"] \n",
    "        \n",
    "        p = [A, W, v_in, lam]\n",
    "\n",
    "        starttime = endtime\n",
    "        endtime = starttime + deltat\n",
    "        tspan = [starttime, endtime]\n",
    "        savetimes = [starttime, endtime]\n",
    "\n",
    "        u0 = sol.u[end]\n",
    "        #Save FBA data\n",
    "        fba_data = vcat(fba_data, DataFrame(\"time\" => [starttime], \"v_in\" => [p[3]], \"lam\" => [p[4]]))\n",
    "    end\n",
    "    println(\"Number of iterations \", N)\n",
    "    println(\"Total FBA time \", total_fba_time)\n",
    "    println(\"Total ODE time \", total_ode_time)\n",
    "    println(\"Fraction of FBA time \", total_fba_time/(total_ode_time+total_fba_time))\n",
    "end"
   ]
  },
  {
   "cell_type": "code",
   "execution_count": null,
   "metadata": {},
   "outputs": [],
   "source": [
    "@time timing_study_ga(10)"
   ]
  },
  {
   "cell_type": "code",
   "execution_count": 11,
   "metadata": {},
   "outputs": [
    {
     "name": "stdout",
     "output_type": "stream",
     "text": [
      "Number of iterations 100\n",
      "Total FBA time 27.4331191\n",
      "Total ODE time 0.6012364\n",
      "Fraction of FBA time 0.9785535857958282\n",
      " 31.231104 seconds (55.15 M allocations: 30.399 GiB, 7.31% gc time)\n"
     ]
    }
   ],
   "source": [
    "@time timing_study_ga(100)"
   ]
  },
  {
   "cell_type": "code",
   "execution_count": 12,
   "metadata": {},
   "outputs": [
    {
     "name": "stdout",
     "output_type": "stream",
     "text": [
      "Number of iterations 1000\n",
      "Total FBA time 270.97098519999975\n",
      "Total ODE time 4.606375600000002\n",
      "Fraction of FBA time 0.9832846370738594\n",
      "279.028147 seconds (524.88 M allocations: 297.844 GiB, 8.37% gc time)\n"
     ]
    }
   ],
   "source": [
    "@time timing_study_ga(1000)"
   ]
  },
  {
   "cell_type": "code",
   "execution_count": 13,
   "metadata": {},
   "outputs": [
    {
     "name": "stdout",
     "output_type": "stream",
     "text": [
      "Number of iterations 3600\n",
      "Total FBA time 1005.3663223000015\n",
      "Total ODE time 12.430016599999993\n",
      "Fraction of FBA time 0.9877873243153596\n",
      "1022.374149 seconds (1.88 G allocations: 1.053 TiB, 8.16% gc time)\n"
     ]
    }
   ],
   "source": [
    "@time timing_study_ga(3600)"
   ]
  },
  {
   "cell_type": "code",
   "execution_count": null,
   "metadata": {},
   "outputs": [],
   "source": []
  }
 ],
 "metadata": {
  "kernelspec": {
   "display_name": "Julia 1.8.5",
   "language": "julia",
   "name": "julia-1.8"
  },
  "language_info": {
   "file_extension": ".jl",
   "mimetype": "application/julia",
   "name": "julia",
   "version": "1.8.5"
  }
 },
 "nbformat": 4,
 "nbformat_minor": 2
}
