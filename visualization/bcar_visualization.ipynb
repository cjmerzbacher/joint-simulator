{
 "cells": [
  {
   "cell_type": "code",
   "execution_count": 1,
   "metadata": {},
   "outputs": [],
   "source": [
    "###IMPORT REQUIRED PACKAGES\n",
    "import pandas as pd\n",
    "import matplotlib.pyplot as plt\n",
    "import seaborn as sns\n",
    "import numpy as np\n",
    "import colormaps as cmaps\n",
    "import os"
   ]
  },
  {
   "cell_type": "markdown",
   "metadata": {},
   "source": [
    "FIGURE 2: Sample B-Car Results"
   ]
  },
  {
   "cell_type": "code",
   "execution_count": null,
   "metadata": {},
   "outputs": [],
   "source": []
  },
  {
   "cell_type": "markdown",
   "metadata": {},
   "source": [
    "FIGURE 3: KNOCKOUTS"
   ]
  },
  {
   "cell_type": "code",
   "execution_count": 31,
   "metadata": {},
   "outputs": [
    {
     "name": "stdout",
     "output_type": "stream",
     "text": [
      "N = 8\n"
     ]
    }
   ],
   "source": [
    "###READ IN KNOCKOUTS DATA\n",
    "wt = 0.651\n",
    "\n",
    "#Knockouts sweep\n",
    "\n",
    "#Knockouts experiments - W sweep\n",
    "knockouts = [\"b1779\", \"b2277\", \"b0432\", \"b0721\"]\n",
    "ws = ['1.0e-7', '1.0e-5']\n",
    "w_sweep_knockouts = pd.DataFrame()\n",
    "for f in knockouts:\n",
    "    for w in ws:\n",
    "        if len(os.listdir('F:/additional_knockouts/knockouts/'+f)) != 0:\n",
    "            sum_k = pd.read_csv('F:/additional_knockouts/knockouts/'+f+'/sum_data_'+f+'_'+w+'.csv')\n",
    "            sum_k['k'] = f\n",
    "            sum_k['w'] = w\n",
    "            #Compute peak B-car concentration, rise time from ODE data\n",
    "            ode_k = pd.read_csv('F:/additional_knockouts/knockouts/'+f+'/sim_ode_data_'+f+'_'+w+'.csv')\n",
    "            peak_bcar = ode_k.bcar.max()\n",
    "            steady_state_bcar = ode_k.bcar[len(ode_k)-1]\n",
    "            rise_time_index = np.where(ode_k.bcar >= steady_state_bcar*0.5)[0][0]\n",
    "            rise_time_bcar = ode_k.time[rise_time_index]\n",
    "            sum_k['rise_time'] = rise_time_bcar\n",
    "            sum_k['peak_bcar'] = peak_bcar\n",
    "            sum_k['run_N'] = len(ode_k)\n",
    "            w_sweep_knockouts = pd.concat([w_sweep_knockouts, sum_k])\n",
    "print(\"N =\", len(w_sweep_knockouts))\n",
    "#Compute percent defect from raw growth rates\n",
    "w_sweep_knockouts = w_sweep_knockouts.reset_index(drop=True)\n",
    "w_sweep_knockouts['defect'] =[100*(1-(wt-w_sweep_knockouts.delta_lam[i])/wt) for i in range(len(w_sweep_knockouts))]\n"
   ]
  },
  {
   "cell_type": "code",
   "execution_count": 34,
   "metadata": {},
   "outputs": [
    {
     "data": {
      "text/plain": [
       "<Axes: xlabel='w', ylabel='k'>"
      ]
     },
     "execution_count": 34,
     "metadata": {},
     "output_type": "execute_result"
    },
    {
     "data": {
      "image/png": "[encoded data removed]",
      "text/plain": [
       "<Figure size 640x480 with 2 Axes>"
      ]
     },
     "metadata": {},
     "output_type": "display_data"
    }
   ],
   "source": [
    "###FIGURE: Heatmap of W sweep experiment\n",
    "defect_map = w_sweep_knockouts.pivot(index='k', columns='w', values='defect')\n",
    "rise_time_map = w_sweep_knockouts.pivot(index='k', columns='w', values='rise_time')\n",
    "peak_bcar_map = w_sweep_knockouts.pivot(index='k', columns='w', values='peak_bcar')\n",
    "sns.heatmap(rise_time_map)"
   ]
  },
  {
   "cell_type": "markdown",
   "metadata": {},
   "source": [
    "FIGURE 4: BURDEN"
   ]
  },
  {
   "cell_type": "code",
   "execution_count": null,
   "metadata": {},
   "outputs": [],
   "source": []
  }
 ],
 "metadata": {
  "kernelspec": {
   "display_name": "sundials",
   "language": "python",
   "name": "python3"
  },
  "language_info": {
   "codemirror_mode": {
    "name": "ipython",
    "version": 3
   },
   "file_extension": ".py",
   "mimetype": "text/x-python",
   "name": "python",
   "nbconvert_exporter": "python",
   "pygments_lexer": "ipython3",
   "version": "3.8.16"
  }
 },
 "nbformat": 4,
 "nbformat_minor": 2
}
