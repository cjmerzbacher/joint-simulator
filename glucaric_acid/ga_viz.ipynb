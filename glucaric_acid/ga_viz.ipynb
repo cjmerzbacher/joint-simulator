{
 "cells": [
  {
   "cell_type": "code",
   "execution_count": 5,
   "metadata": {},
   "outputs": [
    {
     "name": "stdout",
     "output_type": "stream",
     "text": [
      "Imports completed\n",
      "All models read in successfully!"
     ]
    },
    {
     "name": "stdout",
     "output_type": "stream",
     "text": [
      "\n",
      "Initial conditions determined, starting simulation..."
     ]
    },
    {
     "name": "stderr",
     "output_type": "stream",
     "text": [
      "┌ Info: fmin: 100 / 100 trials carried out\n",
      "└ @ TreeParzen.API C:\\Users\\Charlotte\\.julia\\packages\\TreeParzen\\gdoI0\\src\\API.jl:176\n",
      "┌ Info: Successfully completed fmin \n",
      "└ @ TreeParzen.API C:\\Users\\Charlotte\\.julia\\packages\\TreeParzen\\gdoI0\\src\\API.jl:231\n"
     ]
    },
    {
     "name": "stdout",
     "output_type": "stream",
     "text": [
      "\n",
      "Simulation complete!"
     ]
    },
    {
     "name": "stdout",
     "output_type": "stream",
     "text": [
      "\n"
     ]
    },
    {
     "data": {
      "text/plain": [
       "\"ode_data.csv\""
      ]
     },
     "metadata": {},
     "output_type": "display_data"
    }
   ],
   "source": [
    "include(\"ga_exp.jl\")"
   ]
  },
  {
   "cell_type": "code",
   "execution_count": 6,
   "metadata": {},
   "outputs": [],
   "source": [
    "#Run single simulation\n",
    "A = [[0, 0, 1], [0, 0, 1]] #open loop\n",
    "W = [[2., 3.328086, 0.000041], [2., 5.070964, 0.000227]] #Optimal from MSc work - glucaric_acid_singlearch.csv\n",
    "params = [A, W]\n",
    "bo_data, fba_data, ode_data = single_run(params, 100, 86400)\n",
    "\n",
    "CSV.write(\"fba_data.csv\", fba_data)\n",
    "CSV.write(\"ode_data.csv\", ode_data)"
   ]
  },
  {
   "cell_type": "code",
   "execution_count": 5,
   "metadata": {},
   "outputs": [],
   "source": [
    "using CSV\n",
    "using Plots\n",
    "using DataFrames\n",
    "fba_data = CSV.read(\"fba_data.csv\", DataFrame)\n",
    "ode_data = CSV.read(\"ode_data.csv\", DataFrame)\n",
    "\n",
    "print(\"Data read in successfully!\")"
   ]
  },
  {
   "cell_type": "code",
   "execution_count": null,
   "metadata": {},
   "outputs": [],
   "source": []
  }
 ],
 "metadata": {
  "kernelspec": {
   "display_name": "Julia 1.8.5",
   "language": "julia",
   "name": "julia-1.8"
  },
  "language_info": {
   "file_extension": ".jl",
   "mimetype": "application/julia",
   "name": "julia",
   "version": "1.8.5"
  },
  "orig_nbformat": 4
 },
 "nbformat": 4,
 "nbformat_minor": 2
}
