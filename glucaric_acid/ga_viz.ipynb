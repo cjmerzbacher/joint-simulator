{
 "cells": [
  {
   "cell_type": "code",
   "execution_count": 8,
   "metadata": {},
   "outputs": [],
   "source": [
    "#RANDOM SAMPLING FOR W SWEEP\n",
    "from scipy.stats import qmc\n",
    "import pandas as pd\n",
    "\n",
    "#No control sampling\n",
    "sampler = qmc.LatinHypercube(d=2)\n",
    "sample = sampler.random(n=500)\n",
    "l_bounds = [10E-7, 10E-7]\n",
    "u_bounds = [5, 5]\n",
    "sample_scaled = qmc.scale(sample, l_bounds, u_bounds)\n",
    "nc_lhc = pd.DataFrame({'k_ino1':sample_scaled[:,0], 'theta_ino1':0, 'k_miox':sample_scaled[:,1], 'theta_miox':0})\n",
    "nc_lhc.to_csv('exp_data/nc_lhc.csv')\n",
    "\n",
    "#Upstream repression sampling\n",
    "sampler = qmc.LatinHypercube(d=3)\n",
    "sample = sampler.random(n=500)\n",
    "l_bounds = [10E-7, 10E-7, 10E-7]\n",
    "u_bounds = [5, 10, 5]\n",
    "sample_scaled = qmc.scale(sample, l_bounds, u_bounds)\n",
    "ur_lhc = pd.DataFrame({'k_ino1':sample_scaled[:,0], 'theta_ino1':sample_scaled[:,1], 'k_miox':sample_scaled[:,2], 'theta_miox':0})\n",
    "ur_lhc.to_csv('exp_data/ur_lhc.csv')\n",
    "\n",
    "#Downstream activation sampling\n",
    "sampler = qmc.LatinHypercube(d=3)\n",
    "sample = sampler.random(n=500)\n",
    "l_bounds = [10E-7, 10E-7, 10E-7]\n",
    "u_bounds = [5, 5, 10]\n",
    "sample_scaled = qmc.scale(sample, l_bounds, u_bounds)\n",
    "da_lhc = pd.DataFrame({'k_ino1':sample_scaled[:,0], 'theta_ino1':0, 'k_miox':sample_scaled[:,1], 'theta_miox':sample_scaled[:,2]})\n",
    "da_lhc.to_csv('exp_data/da_lhc.csv')\n",
    "\n",
    "#Dual control sampling\n",
    "sampler = qmc.LatinHypercube(d=4)\n",
    "sample = sampler.random(n=500)\n",
    "l_bounds = [10E-7, 10E-7, 10E-7, 10E-7]\n",
    "u_bounds = [5, 10, 5, 10]\n",
    "sample_scaled = qmc.scale(sample, l_bounds, u_bounds)\n",
    "dc_lhc = pd.DataFrame({'k_ino1':sample_scaled[:,0], 'theta_ino1':sample_scaled[:,1], 'k_miox':sample_scaled[:,2], 'theta_miox':sample_scaled[:,3]})\n",
    "dc_lhc.to_csv('exp_data/dc_lhc.csv')"
   ]
  },
  {
   "cell_type": "code",
   "execution_count": null,
   "metadata": {},
   "outputs": [],
   "source": []
  }
 ],
 "metadata": {
  "kernelspec": {
   "display_name": "sundials",
   "language": "python",
   "name": "python3"
  },
  "language_info": {
   "codemirror_mode": {
    "name": "ipython",
    "version": 3
   },
   "file_extension": ".py",
   "mimetype": "text/x-python",
   "name": "python",
   "nbconvert_exporter": "python",
   "pygments_lexer": "ipython3",
   "version": "3.9.7"
  },
  "orig_nbformat": 4
 },
 "nbformat": 4,
 "nbformat_minor": 2
}
