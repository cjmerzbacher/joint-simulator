{
 "cells": [
  {
   "cell_type": "code",
   "execution_count": 2,
   "metadata": {},
   "outputs": [],
   "source": [
    "#RANDOM SAMPLING FOR W SWEEP\n",
    "from scipy.stats import qmc\n",
    "import pandas as pd\n",
    "\n",
    "#No control sampling\n",
    "sampler = qmc.LatinHypercube(d=2)\n",
    "sample = sampler.random(n=500)\n",
    "l_bounds = [10E-7, 10E-7]\n",
    "u_bounds = [10E-3, 10E-3]\n",
    "sample_scaled = qmc.scale(sample, l_bounds, u_bounds)\n",
    "nc_lhc = pd.DataFrame({'k_ino1':sample_scaled[:,0], 'theta_ino1':1., 'k_miox':sample_scaled[:,1], 'theta_miox':1.})\n",
    "nc_lhc.to_csv('exp_data/nc_lhc.csv')\n",
    "\n",
    "#Upstream repression sampling\n",
    "sampler = qmc.LatinHypercube(d=3)\n",
    "sample = sampler.random(n=500)\n",
    "l_bounds = [10E-7, 10E-7, 10E-7]\n",
    "u_bounds = [10E-3, 10, 10E-3]\n",
    "sample_scaled = qmc.scale(sample, l_bounds, u_bounds)\n",
    "ur_lhc = pd.DataFrame({'k_ino1':sample_scaled[:,0], 'theta_ino1':sample_scaled[:,1], 'k_miox':sample_scaled[:,2], 'theta_miox':1.})\n",
    "ur_lhc.to_csv('exp_data/ur_lhc.csv')\n",
    "\n",
    "#Downstream activation sampling\n",
    "sampler = qmc.LatinHypercube(d=3)\n",
    "sample = sampler.random(n=500)\n",
    "l_bounds = [10E-7, 10E-7, 10E-7]\n",
    "u_bounds = [10E-3, 10E-3, 10]\n",
    "sample_scaled = qmc.scale(sample, l_bounds, u_bounds)\n",
    "da_lhc = pd.DataFrame({'k_ino1':sample_scaled[:,0], 'theta_ino1':1., 'k_miox':sample_scaled[:,1], 'theta_miox':sample_scaled[:,2]})\n",
    "da_lhc.to_csv('exp_data/da_lhc.csv')\n",
    "\n",
    "#Dual control sampling\n",
    "sampler = qmc.LatinHypercube(d=4)\n",
    "sample = sampler.random(n=500)\n",
    "l_bounds = [10E-7, 10E-7, 10E-7, 10E-7]\n",
    "u_bounds = [10E-3, 10, 10E-3, 10]\n",
    "sample_scaled = qmc.scale(sample, l_bounds, u_bounds)\n",
    "dc_lhc = pd.DataFrame({'k_ino1':sample_scaled[:,0], 'theta_ino1':sample_scaled[:,1], 'k_miox':sample_scaled[:,2], 'theta_miox':sample_scaled[:,3]})\n",
    "dc_lhc.to_csv('exp_data/dc_lhc.csv')"
   ]
  },
  {
   "cell_type": "code",
   "execution_count": 3,
   "metadata": {},
   "outputs": [],
   "source": [
    "###PYTHON NOTEBOOK FOR VISUALIZATION OF FIGURES\n",
    "import pandas as pd\n",
    "import matplotlib.pyplot as plt\n",
    "import seaborn as sns\n",
    "import numpy as np\n",
    "from sklearn.metrics import r2_score\n",
    "from scipy.stats import linregress"
   ]
  },
  {
   "cell_type": "code",
   "execution_count": 11,
   "metadata": {},
   "outputs": [],
   "source": [
    "dc_combined = pd.read_csv('exp_data/combined_data/dc/sum_data_dc.csv')"
   ]
  },
  {
   "cell_type": "code",
   "execution_count": 16,
   "metadata": {},
   "outputs": [],
   "source": [
    "fba = pd.read_csv('exp_data/dc_r/sim_fba_data_dc_r.csv')"
   ]
  },
  {
   "cell_type": "code",
   "execution_count": 33,
   "metadata": {},
   "outputs": [],
   "source": [
    "small_fba = fba.drop_duplicates(subset=['W']).dropna().reset_index(drop=True)"
   ]
  },
  {
   "cell_type": "code",
   "execution_count": 41,
   "metadata": {},
   "outputs": [],
   "source": [
    "small_fba['k_ino1'] = [float(small_fba.W[i].split(', ')[2].split(']')[0]) for i in range(len(small_fba))]"
   ]
  },
  {
   "cell_type": "code",
   "execution_count": 42,
   "metadata": {},
   "outputs": [
    {
     "data": {
      "text/html": [
       "<div>\n",
       "<style scoped>\n",
       "    .dataframe tbody tr th:only-of-type {\n",
       "        vertical-align: middle;\n",
       "    }\n",
       "\n",
       "    .dataframe tbody tr th {\n",
       "        vertical-align: top;\n",
       "    }\n",
       "\n",
       "    .dataframe thead th {\n",
       "        text-align: right;\n",
       "    }\n",
       "</style>\n",
       "<table border=\"1\" class=\"dataframe\">\n",
       "  <thead>\n",
       "    <tr style=\"text-align: right;\">\n",
       "      <th></th>\n",
       "      <th>time</th>\n",
       "      <th>v_in</th>\n",
       "      <th>lam</th>\n",
       "      <th>W</th>\n",
       "      <th>k_ino1</th>\n",
       "    </tr>\n",
       "  </thead>\n",
       "  <tbody>\n",
       "    <tr>\n",
       "      <th>0</th>\n",
       "      <td>0.0</td>\n",
       "      <td>10.003768</td>\n",
       "      <td>0.878289</td>\n",
       "      <td>[[2.0, 2.9610060881310254, 0.0046820615718197]...</td>\n",
       "      <td>0.004682</td>\n",
       "    </tr>\n",
       "    <tr>\n",
       "      <th>1</th>\n",
       "      <td>0.0</td>\n",
       "      <td>10.003768</td>\n",
       "      <td>0.878289</td>\n",
       "      <td>[[2.0, 5.448546283383601, 0.0078272444685313],...</td>\n",
       "      <td>0.007827</td>\n",
       "    </tr>\n",
       "    <tr>\n",
       "      <th>2</th>\n",
       "      <td>0.0</td>\n",
       "      <td>10.003768</td>\n",
       "      <td>0.878289</td>\n",
       "      <td>[[2.0, 6.984061542245783, 0.0024107262466112],...</td>\n",
       "      <td>0.002411</td>\n",
       "    </tr>\n",
       "    <tr>\n",
       "      <th>3</th>\n",
       "      <td>0.0</td>\n",
       "      <td>10.003768</td>\n",
       "      <td>0.878289</td>\n",
       "      <td>[[2.0, 0.4997654294095259, 0.0041411035056311]...</td>\n",
       "      <td>0.004141</td>\n",
       "    </tr>\n",
       "    <tr>\n",
       "      <th>4</th>\n",
       "      <td>0.0</td>\n",
       "      <td>10.003768</td>\n",
       "      <td>0.878289</td>\n",
       "      <td>[[2.0, 1.0794037184076912, 0.0016640987494957]...</td>\n",
       "      <td>0.001664</td>\n",
       "    </tr>\n",
       "    <tr>\n",
       "      <th>...</th>\n",
       "      <td>...</td>\n",
       "      <td>...</td>\n",
       "      <td>...</td>\n",
       "      <td>...</td>\n",
       "      <td>...</td>\n",
       "    </tr>\n",
       "    <tr>\n",
       "      <th>86</th>\n",
       "      <td>0.0</td>\n",
       "      <td>10.003768</td>\n",
       "      <td>0.878289</td>\n",
       "      <td>[[2.0, 1.644360521138738, 0.0054651882972355],...</td>\n",
       "      <td>0.005465</td>\n",
       "    </tr>\n",
       "    <tr>\n",
       "      <th>87</th>\n",
       "      <td>0.0</td>\n",
       "      <td>10.003768</td>\n",
       "      <td>0.878289</td>\n",
       "      <td>[[2.0, 4.113351108663, 0.0093339609858797], [2...</td>\n",
       "      <td>0.009334</td>\n",
       "    </tr>\n",
       "    <tr>\n",
       "      <th>88</th>\n",
       "      <td>0.0</td>\n",
       "      <td>10.003768</td>\n",
       "      <td>0.878289</td>\n",
       "      <td>[[2.0, 4.8446864654533295, 0.0011140206540156]...</td>\n",
       "      <td>0.001114</td>\n",
       "    </tr>\n",
       "    <tr>\n",
       "      <th>89</th>\n",
       "      <td>0.0</td>\n",
       "      <td>10.003768</td>\n",
       "      <td>0.878289</td>\n",
       "      <td>[[2.0, 5.519844683288414, 0.0057962207516211],...</td>\n",
       "      <td>0.005796</td>\n",
       "    </tr>\n",
       "    <tr>\n",
       "      <th>90</th>\n",
       "      <td>0.0</td>\n",
       "      <td>10.003768</td>\n",
       "      <td>0.878289</td>\n",
       "      <td>[[2.0, 0.6033227347553354, 0.0060771897126498]...</td>\n",
       "      <td>0.006077</td>\n",
       "    </tr>\n",
       "  </tbody>\n",
       "</table>\n",
       "<p>91 rows × 5 columns</p>\n",
       "</div>"
      ],
      "text/plain": [
       "    time       v_in       lam  \\\n",
       "0    0.0  10.003768  0.878289   \n",
       "1    0.0  10.003768  0.878289   \n",
       "2    0.0  10.003768  0.878289   \n",
       "3    0.0  10.003768  0.878289   \n",
       "4    0.0  10.003768  0.878289   \n",
       "..   ...        ...       ...   \n",
       "86   0.0  10.003768  0.878289   \n",
       "87   0.0  10.003768  0.878289   \n",
       "88   0.0  10.003768  0.878289   \n",
       "89   0.0  10.003768  0.878289   \n",
       "90   0.0  10.003768  0.878289   \n",
       "\n",
       "                                                    W    k_ino1  \n",
       "0   [[2.0, 2.9610060881310254, 0.0046820615718197]...  0.004682  \n",
       "1   [[2.0, 5.448546283383601, 0.0078272444685313],...  0.007827  \n",
       "2   [[2.0, 6.984061542245783, 0.0024107262466112],...  0.002411  \n",
       "3   [[2.0, 0.4997654294095259, 0.0041411035056311]...  0.004141  \n",
       "4   [[2.0, 1.0794037184076912, 0.0016640987494957]...  0.001664  \n",
       "..                                                ...       ...  \n",
       "86  [[2.0, 1.644360521138738, 0.0054651882972355],...  0.005465  \n",
       "87  [[2.0, 4.113351108663, 0.0093339609858797], [2...  0.009334  \n",
       "88  [[2.0, 4.8446864654533295, 0.0011140206540156]...  0.001114  \n",
       "89  [[2.0, 5.519844683288414, 0.0057962207516211],...  0.005796  \n",
       "90  [[2.0, 0.6033227347553354, 0.0060771897126498]...  0.006077  \n",
       "\n",
       "[91 rows x 5 columns]"
      ]
     },
     "execution_count": 42,
     "metadata": {},
     "output_type": "execute_result"
    }
   ],
   "source": [
    "small_fba"
   ]
  },
  {
   "cell_type": "code",
   "execution_count": 48,
   "metadata": {},
   "outputs": [],
   "source": [
    "lhc = pd.read_csv(\"exp_data/dc_lhc_remaining.csv\")\n",
    "lhc.loc[~lhc.k_ino1.isin(list(small_fba.k_ino1))][['k_ino1', 'theta_ino1', 'k_miox', 'theta_miox']].to_csv('exp_data/dc_lhc_rem2.csv')"
   ]
  },
  {
   "cell_type": "code",
   "execution_count": 17,
   "metadata": {},
   "outputs": [
    {
     "data": {
      "text/plain": [
       "92"
      ]
     },
     "execution_count": 17,
     "metadata": {},
     "output_type": "execute_result"
    }
   ],
   "source": [
    "len(fba.W.unique())"
   ]
  },
  {
   "cell_type": "code",
   "execution_count": 82,
   "metadata": {},
   "outputs": [
    {
     "name": "stdout",
     "output_type": "stream",
     "text": [
      "DC\n",
      "NC\n",
      "DA\n",
      "UR\n"
     ]
    }
   ],
   "source": [
    "#BURDEN COMPUTATION -FIX MEEEEEE\n",
    "# print(\"DC\")\n",
    "# burdens1 = []\n",
    "# burdens2 = []\n",
    "# for w in fba_data_dc_final.W.unique():\n",
    "#     fba_data = fba_data_dc_final.loc[fba_data_dc_final.W == w].reset_index(drop=True)\n",
    "#     burden1 = sum(fba_data.lam[0] - fba_data.lam)\n",
    "#     burden2 = fba_data.lam[0] - fba_data.lam[len(fba_data)-1]\n",
    "#     burdens1.append(burden1)\n",
    "#     burdens2.append(burden2)\n",
    "\n",
    "# sum_data_dc_final['sum_burden'] = burdens1\n",
    "# sum_data_dc_final['delta_burden'] = burdens2\n",
    "\n",
    "# sum_data_dc_final.to_csv('exp_data/combined_data/sum_data_dc_burden_final.csv')\n",
    "\n",
    "print(\"NC\")\n",
    "burdens1 = []\n",
    "burdens2 = []\n",
    "for w in fba_data_nc_final.W.unique():\n",
    "    fba_data = fba_data_nc_final.loc[fba_data_nc_final.W == w].reset_index(drop=True)\n",
    "    burden1 = sum(fba_data.lam[0] - fba_data.lam)\n",
    "    burden2 = fba_data.lam[0] - fba_data.lam[len(fba_data)-1]\n",
    "    burdens1.append(burden1)\n",
    "    burdens2.append(burden2)\n",
    "\n",
    "sum_data_nc_final['sum_burden'] = burdens1\n",
    "sum_data_nc_final['delta_burden'] = burdens2\n",
    "\n",
    "sum_data_nc_final.to_csv('exp_data/combined_data/sum_data_nc_burden_final.csv')\n",
    "\n",
    "print(\"DA\")\n",
    "burdens1 = []\n",
    "burdens2 = []\n",
    "for w in fba_data_da_final.W.unique():\n",
    "    fba_data = fba_data_da_final.loc[fba_data_da_final.W == w].reset_index(drop=True)\n",
    "    burden1 = sum(fba_data.lam[0] - fba_data.lam)\n",
    "    burden2 = fba_data.lam[0] - fba_data.lam[len(fba_data)-1]\n",
    "    burdens1.append(burden1)\n",
    "    burdens2.append(burden2)\n",
    "\n",
    "sum_data_da_final['sum_burden'] = burdens1\n",
    "sum_data_da_final['delta_burden'] = burdens2\n",
    "\n",
    "sum_data_da_final.to_csv('exp_data/combined_data/sum_data_da_burden_final.csv')\n",
    "\n",
    "print('UR')\n",
    "burdens1 = []\n",
    "burdens2 = []\n",
    "for w in fba_data_ur_new.W.unique():\n",
    "    fba_data = fba_data_ur_new.loc[fba_data_ur_new.W == w].reset_index(drop=True)\n",
    "    burden1 = sum(fba_data.lam[0] - fba_data.lam)\n",
    "    burden2 = fba_data.lam[0] - fba_data.lam[len(fba_data)-1]\n",
    "    burdens1.append(burden1)\n",
    "    burdens2.append(burden2)\n",
    "\n",
    "sum_data_ur_new['sum_burden'] = burdens1\n",
    "sum_data_ur_new['delta_burden'] = burdens2\n",
    "\n",
    "sum_data_ur_new.to_csv('exp_data/combined_data/sum_data_ur_burden_final.csv')\n"
   ]
  },
  {
   "cell_type": "code",
   "execution_count": 83,
   "metadata": {},
   "outputs": [
    {
     "data": {
      "image/png": "[encoded data removed]",
      "text/plain": [
       "<Figure size 432x288 with 1 Axes>"
      ]
     },
     "metadata": {
      "needs_background": "light"
     },
     "output_type": "display_data"
    }
   ],
   "source": [
    "###FIGURE: Burden vs. production\n",
    "fig = plt.figure(figsize=(6,4))\n",
    "ax = fig.add_subplot()\n",
    "ax.set_xlabel('Production (mM)', fontsize=16)\n",
    "ax.set_ylabel('Burden (mM/hr)', fontsize=16)\n",
    "ax.tick_params(axis='y', labelsize=14)\n",
    "ax.tick_params(axis='x', labelsize=14)\n",
    "for axis in ['top','right']:\n",
    "    ax.spines[axis].set_linewidth(0)\n",
    "\n",
    "ax.plot(sum_data_nc.ga_tot, -sum_data_nc.delta_burden, '.', c='firebrick', ms=10)\n",
    "ax.plot(sum_data_dc.ga_tot, -sum_data_dc.delta_burden, '.', c='navy', ms=10)\n",
    "ax.plot(sum_data_da.ga_tot, -sum_data_da.delta_burden, '.', c='gold', ms=10)\n",
    "ax.plot(sum_data_ur.ga_tot, -sum_data_ur.delta_burden, '.', c='forestgreen', ms=10, alpha=0.1)\n",
    "#ax.set_xlim([0, 3000])\n",
    "fig.tight_layout()\n"
   ]
  },
  {
   "cell_type": "code",
   "execution_count": 30,
   "metadata": {},
   "outputs": [
    {
     "data": {
      "text/plain": [
       "<seaborn.axisgrid.JointGrid at 0x1cf03c0ddc0>"
      ]
     },
     "execution_count": 30,
     "metadata": {},
     "output_type": "execute_result"
    },
    {
     "data": {
      "image/png": "[encoded data removed]",
      "text/plain": [
       "<Figure size 432x432 with 3 Axes>"
      ]
     },
     "metadata": {},
     "output_type": "display_data"
    },
    {
     "data": {
      "image/png": "[encoded data removed]",
      "text/plain": [
       "<Figure size 432x432 with 3 Axes>"
      ]
     },
     "metadata": {},
     "output_type": "display_data"
    }
   ],
   "source": [
    "import seaborn as sns\n",
    "\n",
    "g = sns.JointGrid(data=sum_data_dc, x=\"ga_tot\", y=\"delta_burden\", space=0, ratio=17)\n",
    "g.plot_joint(sns.scatterplot,\n",
    "             color=\"b\", alpha=.6, legend=False)\n",
    "g.plot_marginals(sns.rugplot, height=1, color=\"b\", alpha=.6)\n",
    "\n",
    "g = sns.JointGrid(data=sum_data_nc, x=\"ga_tot\", y=\"delta_burden\", space=0, ratio=17)\n",
    "g.plot_joint(sns.scatterplot,\n",
    "             color=\"r\", alpha=.6, legend=False)\n",
    "g.plot_marginals(sns.rugplot, height=1, color=\"r\", alpha=.6)"
   ]
  },
  {
   "cell_type": "code",
   "execution_count": null,
   "metadata": {},
   "outputs": [],
   "source": []
  }
 ],
 "metadata": {
  "kernelspec": {
   "display_name": "sundials",
   "language": "python",
   "name": "python3"
  },
  "language_info": {
   "codemirror_mode": {
    "name": "ipython",
    "version": 3
   },
   "file_extension": ".py",
   "mimetype": "text/x-python",
   "name": "python",
   "nbconvert_exporter": "python",
   "pygments_lexer": "ipython3",
   "version": "3.9.7"
  },
  "orig_nbformat": 4
 },
 "nbformat": 4,
 "nbformat_minor": 2
}
