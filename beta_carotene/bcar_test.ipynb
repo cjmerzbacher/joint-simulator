{
 "cells": [
  {
   "cell_type": "code",
   "execution_count": null,
   "metadata": {},
   "outputs": [],
   "source": [
    "# Import required package\n",
    "using DifferentialEquations\n",
    "using COBREXA\n",
    "using DataFrames\n",
    "using Tulip\n",
    "using Plots\n",
    "using Colors\n",
    "using ModelingToolkit\n",
    "using Statistics\n",
    "using GLM\n",
    "using Random\n",
    "using Flux\n",
    "using ProgressMeter\n",
    "using MLBase #Confusion matrix function\n",
    "using Serialization\n",
    "using TreeParzen\n",
    "using CSV\n",
    "using LatinHypercubeSampling\n",
    "\n",
    "home_path = \"C:/Users/Charlotte/OneDrive - University of Edinburgh/Documents/research/joint-simulator/\"\n",
    "include(home_path * \"models/beta_carotene.jl\")\n",
    "include(home_path * \"beta_carotene/bcar_sim.jl\")\n",
    "\n",
    "println(\"Imports completed\")"
   ]
  }
 ],
 "metadata": {
  "kernelspec": {
   "display_name": "Julia 1.8.5",
   "language": "julia",
   "name": "julia-1.8"
  },
  "language_info": {
   "file_extension": ".jl",
   "mimetype": "application/julia",
   "name": "julia",
   "version": "1.8.5"
  },
  "orig_nbformat": 4
 },
 "nbformat": 4,
 "nbformat_minor": 2
}
