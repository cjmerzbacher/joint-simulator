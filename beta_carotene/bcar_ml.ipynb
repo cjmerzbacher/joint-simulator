{
 "cells": [
  {
   "cell_type": "code",
   "execution_count": null,
   "metadata": {},
   "outputs": [],
   "source": [
    "#This notebook contains information about the generation of ML simulator training data \n",
    "#Generation of training data is in Python, training is in Julia? Convert code to Julia?"
   ]
  }
 ],
 "metadata": {
  "language_info": {
   "name": "python"
  },
  "orig_nbformat": 4
 },
 "nbformat": 4,
 "nbformat_minor": 2
}
